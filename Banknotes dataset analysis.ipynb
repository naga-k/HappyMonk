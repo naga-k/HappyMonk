{
 "cells": [
  {
   "cell_type": "markdown",
   "metadata": {},
   "source": [
    "# Load the dataset"
   ]
  },
  {
   "cell_type": "code",
   "execution_count": 1,
   "metadata": {},
   "outputs": [
    {
     "name": "stdout",
     "output_type": "stream",
     "text": [
      "(1372, 5)\n"
     ]
    }
   ],
   "source": [
    "from pandas import read_csv\n",
    "import numpy as np\n",
    "url = 'BankNote_Authentication.csv'\n",
    "df = read_csv(url, header=None)\n",
    "print(df. shape)"
   ]
  },
  {
   "cell_type": "code",
   "execution_count": 2,
   "metadata": {},
   "outputs": [
    {
     "data": {
      "text/html": [
       "<div>\n",
       "<style scoped>\n",
       "    .dataframe tbody tr th:only-of-type {\n",
       "        vertical-align: middle;\n",
       "    }\n",
       "\n",
       "    .dataframe tbody tr th {\n",
       "        vertical-align: top;\n",
       "    }\n",
       "\n",
       "    .dataframe thead th {\n",
       "        text-align: right;\n",
       "    }\n",
       "</style>\n",
       "<table border=\"1\" class=\"dataframe\">\n",
       "  <thead>\n",
       "    <tr style=\"text-align: right;\">\n",
       "      <th></th>\n",
       "      <th>0</th>\n",
       "      <th>1</th>\n",
       "      <th>2</th>\n",
       "      <th>3</th>\n",
       "      <th>4</th>\n",
       "    </tr>\n",
       "  </thead>\n",
       "  <tbody>\n",
       "    <tr>\n",
       "      <th>count</th>\n",
       "      <td>1372.000000</td>\n",
       "      <td>1372.000000</td>\n",
       "      <td>1372.000000</td>\n",
       "      <td>1372.000000</td>\n",
       "      <td>1372.000000</td>\n",
       "    </tr>\n",
       "    <tr>\n",
       "      <th>mean</th>\n",
       "      <td>0.433735</td>\n",
       "      <td>1.922353</td>\n",
       "      <td>1.397627</td>\n",
       "      <td>-1.191657</td>\n",
       "      <td>0.444606</td>\n",
       "    </tr>\n",
       "    <tr>\n",
       "      <th>std</th>\n",
       "      <td>2.842763</td>\n",
       "      <td>5.869047</td>\n",
       "      <td>4.310030</td>\n",
       "      <td>2.101013</td>\n",
       "      <td>0.497103</td>\n",
       "    </tr>\n",
       "    <tr>\n",
       "      <th>min</th>\n",
       "      <td>-7.042100</td>\n",
       "      <td>-13.773100</td>\n",
       "      <td>-5.286100</td>\n",
       "      <td>-8.548200</td>\n",
       "      <td>0.000000</td>\n",
       "    </tr>\n",
       "    <tr>\n",
       "      <th>25%</th>\n",
       "      <td>-1.773000</td>\n",
       "      <td>-1.708200</td>\n",
       "      <td>-1.574975</td>\n",
       "      <td>-2.413450</td>\n",
       "      <td>0.000000</td>\n",
       "    </tr>\n",
       "    <tr>\n",
       "      <th>50%</th>\n",
       "      <td>0.496180</td>\n",
       "      <td>2.319650</td>\n",
       "      <td>0.616630</td>\n",
       "      <td>-0.586650</td>\n",
       "      <td>0.000000</td>\n",
       "    </tr>\n",
       "    <tr>\n",
       "      <th>75%</th>\n",
       "      <td>2.821475</td>\n",
       "      <td>6.814625</td>\n",
       "      <td>3.179250</td>\n",
       "      <td>0.394810</td>\n",
       "      <td>1.000000</td>\n",
       "    </tr>\n",
       "    <tr>\n",
       "      <th>max</th>\n",
       "      <td>6.824800</td>\n",
       "      <td>12.951600</td>\n",
       "      <td>17.927400</td>\n",
       "      <td>2.449500</td>\n",
       "      <td>1.000000</td>\n",
       "    </tr>\n",
       "  </tbody>\n",
       "</table>\n",
       "</div>"
      ],
      "text/plain": [
       "                 0            1            2            3            4\n",
       "count  1372.000000  1372.000000  1372.000000  1372.000000  1372.000000\n",
       "mean      0.433735     1.922353     1.397627    -1.191657     0.444606\n",
       "std       2.842763     5.869047     4.310030     2.101013     0.497103\n",
       "min      -7.042100   -13.773100    -5.286100    -8.548200     0.000000\n",
       "25%      -1.773000    -1.708200    -1.574975    -2.413450     0.000000\n",
       "50%       0.496180     2.319650     0.616630    -0.586650     0.000000\n",
       "75%       2.821475     6.814625     3.179250     0.394810     1.000000\n",
       "max       6.824800    12.951600    17.927400     2.449500     1.000000"
      ]
     },
     "execution_count": 2,
     "metadata": {},
     "output_type": "execute_result"
    }
   ],
   "source": [
    "df.describe()"
   ]
  },
  {
   "cell_type": "markdown",
   "metadata": {},
   "source": [
    "# MLP"
   ]
  },
  {
   "cell_type": "code",
   "execution_count": 3,
   "metadata": {},
   "outputs": [],
   "source": [
    "from sklearn.model_selection import train_test_split\n",
    "from sklearn.preprocessing import LabelEncoder\n",
    "from sklearn.metrics import accuracy_score\n",
    "from tensorflow.keras import Sequential\n",
    "from tensorflow.keras.layers import Dense\n",
    "from matplotlib import pyplot\n",
    "from tensorflow.keras.callbacks import ModelCheckpoint"
   ]
  },
  {
   "cell_type": "code",
   "execution_count": 4,
   "metadata": {},
   "outputs": [],
   "source": [
    "X,y =  df.values[:,:-1],df.values[:,-1]"
   ]
  },
  {
   "cell_type": "code",
   "execution_count": 5,
   "metadata": {
    "scrolled": true
   },
   "outputs": [
    {
     "name": "stdout",
     "output_type": "stream",
     "text": [
      "Epoch 1/50\n",
      " 1/29 [>.............................] - ETA: 0s - loss: 1.8822 - acc: 0.5625WARNING:tensorflow:Callbacks method `on_test_batch_end` is slow compared to the batch time (batch time: 0.0000s vs `on_test_batch_end` time: 0.0010s). Check your callbacks.\n",
      "29/29 [==============================] - 0s 6ms/step - loss: 1.6661 - acc: 0.5637 - val_loss: 1.4280 - val_acc: 0.5894\n",
      "Epoch 2/50\n",
      "29/29 [==============================] - 0s 2ms/step - loss: 1.2819 - acc: 0.6213 - val_loss: 1.1281 - val_acc: 0.6689\n",
      "Epoch 3/50\n",
      "29/29 [==============================] - 0s 2ms/step - loss: 1.0565 - acc: 0.6790 - val_loss: 0.9480 - val_acc: 0.6909\n",
      "Epoch 4/50\n",
      "29/29 [==============================] - 0s 2ms/step - loss: 0.9003 - acc: 0.6964 - val_loss: 0.8027 - val_acc: 0.7086\n",
      "Epoch 5/50\n",
      "29/29 [==============================] - 0s 2ms/step - loss: 0.7596 - acc: 0.7138 - val_loss: 0.6650 - val_acc: 0.7285\n",
      "Epoch 6/50\n",
      "29/29 [==============================] - 0s 2ms/step - loss: 0.6214 - acc: 0.7421 - val_loss: 0.5411 - val_acc: 0.7395\n",
      "Epoch 7/50\n",
      "29/29 [==============================] - 0s 2ms/step - loss: 0.4962 - acc: 0.7780 - val_loss: 0.4254 - val_acc: 0.7748\n",
      "Epoch 8/50\n",
      "29/29 [==============================] - 0s 2ms/step - loss: 0.3835 - acc: 0.8041 - val_loss: 0.3318 - val_acc: 0.8079\n",
      "Epoch 9/50\n",
      "29/29 [==============================] - 0s 2ms/step - loss: 0.2944 - acc: 0.8444 - val_loss: 0.2599 - val_acc: 0.8698\n",
      "Epoch 10/50\n",
      "29/29 [==============================] - 0s 2ms/step - loss: 0.2301 - acc: 0.9249 - val_loss: 0.2152 - val_acc: 0.9360\n",
      "Epoch 11/50\n",
      "29/29 [==============================] - 0s 2ms/step - loss: 0.1907 - acc: 0.9652 - val_loss: 0.1846 - val_acc: 0.9492\n",
      "Epoch 12/50\n",
      "29/29 [==============================] - 0s 2ms/step - loss: 0.1653 - acc: 0.9717 - val_loss: 0.1645 - val_acc: 0.9536\n",
      "Epoch 13/50\n",
      "29/29 [==============================] - 0s 2ms/step - loss: 0.1478 - acc: 0.9663 - val_loss: 0.1490 - val_acc: 0.9536\n",
      "Epoch 14/50\n",
      "29/29 [==============================] - 0s 2ms/step - loss: 0.1344 - acc: 0.9652 - val_loss: 0.1374 - val_acc: 0.9558\n",
      "Epoch 15/50\n",
      "29/29 [==============================] - 0s 2ms/step - loss: 0.1236 - acc: 0.9739 - val_loss: 0.1272 - val_acc: 0.9669\n",
      "Epoch 16/50\n",
      "29/29 [==============================] - 0s 2ms/step - loss: 0.1144 - acc: 0.9782 - val_loss: 0.1188 - val_acc: 0.9669\n",
      "Epoch 17/50\n",
      "29/29 [==============================] - 0s 2ms/step - loss: 0.1067 - acc: 0.9826 - val_loss: 0.1112 - val_acc: 0.9757\n",
      "Epoch 18/50\n",
      "29/29 [==============================] - 0s 2ms/step - loss: 0.1002 - acc: 0.9848 - val_loss: 0.1046 - val_acc: 0.9779\n",
      "Epoch 19/50\n",
      "29/29 [==============================] - 0s 2ms/step - loss: 0.0941 - acc: 0.9869 - val_loss: 0.0990 - val_acc: 0.9779\n",
      "Epoch 20/50\n",
      "29/29 [==============================] - 0s 2ms/step - loss: 0.0890 - acc: 0.9869 - val_loss: 0.0940 - val_acc: 0.9779\n",
      "Epoch 21/50\n",
      "29/29 [==============================] - 0s 2ms/step - loss: 0.0844 - acc: 0.9869 - val_loss: 0.0893 - val_acc: 0.9801\n",
      "Epoch 22/50\n",
      "29/29 [==============================] - 0s 2ms/step - loss: 0.0803 - acc: 0.9869 - val_loss: 0.0848 - val_acc: 0.9823\n",
      "Epoch 23/50\n",
      "29/29 [==============================] - 0s 2ms/step - loss: 0.0764 - acc: 0.9880 - val_loss: 0.0809 - val_acc: 0.9868\n",
      "Epoch 24/50\n",
      "29/29 [==============================] - 0s 2ms/step - loss: 0.0729 - acc: 0.9891 - val_loss: 0.0773 - val_acc: 0.9912\n",
      "Epoch 25/50\n",
      "29/29 [==============================] - 0s 2ms/step - loss: 0.0697 - acc: 0.9913 - val_loss: 0.0737 - val_acc: 0.9912\n",
      "Epoch 26/50\n",
      "29/29 [==============================] - 0s 2ms/step - loss: 0.0666 - acc: 0.9913 - val_loss: 0.0709 - val_acc: 0.9912\n",
      "Epoch 27/50\n",
      "29/29 [==============================] - 0s 2ms/step - loss: 0.0638 - acc: 0.9913 - val_loss: 0.0675 - val_acc: 0.9912\n",
      "Epoch 28/50\n",
      "29/29 [==============================] - 0s 2ms/step - loss: 0.0611 - acc: 0.9924 - val_loss: 0.0650 - val_acc: 0.9912\n",
      "Epoch 29/50\n",
      "29/29 [==============================] - 0s 2ms/step - loss: 0.0587 - acc: 0.9935 - val_loss: 0.0622 - val_acc: 0.9912\n",
      "Epoch 30/50\n",
      "29/29 [==============================] - 0s 2ms/step - loss: 0.0563 - acc: 0.9935 - val_loss: 0.0599 - val_acc: 0.9912\n",
      "Epoch 31/50\n",
      "29/29 [==============================] - 0s 2ms/step - loss: 0.0542 - acc: 0.9935 - val_loss: 0.0573 - val_acc: 0.9912\n",
      "Epoch 32/50\n",
      "29/29 [==============================] - 0s 2ms/step - loss: 0.0521 - acc: 0.9946 - val_loss: 0.0552 - val_acc: 0.9934\n",
      "Epoch 33/50\n",
      "29/29 [==============================] - 0s 2ms/step - loss: 0.0502 - acc: 0.9956 - val_loss: 0.0534 - val_acc: 0.9934\n",
      "Epoch 34/50\n",
      "29/29 [==============================] - 0s 2ms/step - loss: 0.0484 - acc: 0.9967 - val_loss: 0.0511 - val_acc: 0.9934\n",
      "Epoch 35/50\n",
      "29/29 [==============================] - 0s 2ms/step - loss: 0.0467 - acc: 0.9967 - val_loss: 0.0490 - val_acc: 0.9956\n",
      "Epoch 36/50\n",
      "29/29 [==============================] - 0s 2ms/step - loss: 0.0451 - acc: 0.9967 - val_loss: 0.0472 - val_acc: 0.9956\n",
      "Epoch 37/50\n",
      "29/29 [==============================] - 0s 2ms/step - loss: 0.0435 - acc: 0.9967 - val_loss: 0.0456 - val_acc: 0.9956\n",
      "Epoch 38/50\n",
      "29/29 [==============================] - 0s 2ms/step - loss: 0.0420 - acc: 0.9967 - val_loss: 0.0441 - val_acc: 0.9956\n",
      "Epoch 39/50\n",
      "29/29 [==============================] - 0s 2ms/step - loss: 0.0407 - acc: 0.9967 - val_loss: 0.0426 - val_acc: 1.0000\n",
      "Epoch 40/50\n",
      "29/29 [==============================] - 0s 2ms/step - loss: 0.0394 - acc: 0.9978 - val_loss: 0.0409 - val_acc: 1.0000\n",
      "Epoch 41/50\n",
      "29/29 [==============================] - 0s 2ms/step - loss: 0.0381 - acc: 0.9978 - val_loss: 0.0396 - val_acc: 1.0000\n",
      "Epoch 42/50\n",
      "29/29 [==============================] - 0s 2ms/step - loss: 0.0369 - acc: 0.9978 - val_loss: 0.0383 - val_acc: 1.0000\n",
      "Epoch 43/50\n",
      "29/29 [==============================] - 0s 2ms/step - loss: 0.0358 - acc: 0.9989 - val_loss: 0.0370 - val_acc: 1.0000\n",
      "Epoch 44/50\n",
      "29/29 [==============================] - 0s 2ms/step - loss: 0.0347 - acc: 1.0000 - val_loss: 0.0358 - val_acc: 1.0000\n",
      "Epoch 45/50\n",
      "29/29 [==============================] - 0s 2ms/step - loss: 0.0337 - acc: 1.0000 - val_loss: 0.0348 - val_acc: 1.0000\n",
      "Epoch 46/50\n",
      "29/29 [==============================] - 0s 2ms/step - loss: 0.0327 - acc: 1.0000 - val_loss: 0.0337 - val_acc: 1.0000\n",
      "Epoch 47/50\n",
      "29/29 [==============================] - 0s 2ms/step - loss: 0.0318 - acc: 1.0000 - val_loss: 0.0327 - val_acc: 1.0000\n",
      "Epoch 48/50\n",
      "29/29 [==============================] - 0s 2ms/step - loss: 0.0309 - acc: 1.0000 - val_loss: 0.0316 - val_acc: 1.0000\n",
      "Epoch 49/50\n",
      "29/29 [==============================] - 0s 2ms/step - loss: 0.0300 - acc: 1.0000 - val_loss: 0.0306 - val_acc: 1.0000\n",
      "Epoch 50/50\n",
      "29/29 [==============================] - 0s 2ms/step - loss: 0.0291 - acc: 1.0000 - val_loss: 0.0297 - val_acc: 1.0000\n"
     ]
    }
   ],
   "source": [
    "# split into input and output columns\n",
    "X, y = df.values[:, :-1], df.values[:, -1]\n",
    "# ensure all data are floating point values\n",
    "X = X.astype('float32')\n",
    "# encode strings to integer\n",
    "y = LabelEncoder().fit_transform(y)\n",
    "# split into train and test datasets\n",
    "X_train, X_test, y_train, y_test = train_test_split(X, y, test_size=0.33)\n",
    "# determine the number of input features\n",
    "n_features = X.shape[1]\n",
    "\n",
    "# define model\n",
    "model = Sequential()\n",
    "model.add(Dense(10, activation='relu', kernel_initializer='he_normal', input_shape=(n_features,)))\n",
    "model.add(Dense(1, activation='sigmoid'))\n",
    "# compile the model\n",
    "model.compile(optimizer='adam', loss='binary_crossentropy', metrics=[\"acc\"])\n",
    "#save weights\n",
    "checkpoint_filepath = 'checkpoints/checkpoint'\n",
    "model_checkpoint_callback = ModelCheckpoint(\n",
    "    filepath=checkpoint_filepath,\n",
    "    save_weights_only=True,\n",
    "    monitor='val_accuracy',\n",
    "    mode='max',\n",
    "    save_best_only=False)\n",
    "# fit the model\n",
    "history = model.fit(X_train, y_train, epochs=50, batch_size=32, verbose=1, validation_data=(X_test,y_test),callbacks=[model_checkpoint_callback])\n"
   ]
  },
  {
   "cell_type": "code",
   "execution_count": 6,
   "metadata": {},
   "outputs": [
    {
     "name": "stdout",
     "output_type": "stream",
     "text": [
      "Model: \"sequential\"\n",
      "_________________________________________________________________\n",
      "Layer (type)                 Output Shape              Param #   \n",
      "=================================================================\n",
      "dense (Dense)                (None, 10)                50        \n",
      "_________________________________________________________________\n",
      "dense_1 (Dense)              (None, 1)                 11        \n",
      "=================================================================\n",
      "Total params: 61\n",
      "Trainable params: 61\n",
      "Non-trainable params: 0\n",
      "_________________________________________________________________\n"
     ]
    }
   ],
   "source": [
    "model.summary()"
   ]
  },
  {
   "cell_type": "code",
   "execution_count": 7,
   "metadata": {},
   "outputs": [
    {
     "name": "stdout",
     "output_type": "stream",
     "text": [
      "Train Accuracy 1.0\n",
      "WARNING:tensorflow:From <ipython-input-7-38f32e11e45f>:3: Sequential.predict_classes (from tensorflow.python.keras.engine.sequential) is deprecated and will be removed after 2021-01-01.\n",
      "Instructions for updating:\n",
      "Please use instead:* `np.argmax(model.predict(x), axis=-1)`,   if your model does multi-class classification   (e.g. if it uses a `softmax` last-layer activation).* `(model.predict(x) > 0.5).astype(\"int32\")`,   if your model does binary classification   (e.g. if it uses a `sigmoid` last-layer activation).\n",
      "Test Accuracy: 1.000\n",
      "F1 score: 1.000000\n"
     ]
    }
   ],
   "source": [
    "print(\"Train Accuracy\", history.history['val_acc'][-1])\n",
    "# predict test set\n",
    "yhat = model.predict_classes(X_test)\n",
    "# evaluate predictions\n",
    "score = accuracy_score(y_test, yhat)\n",
    "print('Test Accuracy: %.3f' % score)\n",
    "#F1 score\n",
    "from sklearn.metrics import f1_score\n",
    "# f1: 2 tp / (2 tp + fp + fn)\n",
    "f1 = f1_score(y_test, yhat)\n",
    "print('F1 score: %f' % f1)"
   ]
  },
  {
   "cell_type": "code",
   "execution_count": 8,
   "metadata": {},
   "outputs": [
    {
     "data": {
      "image/png": "[encoded data removed]",
      "text/plain": [
       "<Figure size 432x288 with 1 Axes>"
      ]
     },
     "metadata": {
      "needs_background": "light"
     },
     "output_type": "display_data"
    },
    {
     "data": {
      "image/png": "[encoded data removed]",
      "text/plain": [
       "<Figure size 432x288 with 1 Axes>"
      ]
     },
     "metadata": {
      "needs_background": "light"
     },
     "output_type": "display_data"
    }
   ],
   "source": [
    "# plot learning curves\n",
    "pyplot.title('Learning Curves')\n",
    "pyplot.xlabel('Epoch')\n",
    "pyplot.ylabel('Cross Entropy')\n",
    "pyplot.plot(history.history['loss'], label='train')\n",
    "pyplot.plot(history.history['val_loss'], label='val')\n",
    "pyplot.legend()\n",
    "pyplot.show()\n",
    "# plot learning curves\n",
    "pyplot.title('Learning Curves')\n",
    "pyplot.xlabel('Epoch')\n",
    "pyplot.ylabel('Accuracy')\n",
    "pyplot.plot(history.history['acc'], label='train')\n",
    "pyplot.plot(history.history['val_acc'], label='val')\n",
    "pyplot.legend()\n",
    "pyplot.show()"
   ]
  },
  {
   "cell_type": "code",
   "execution_count": 9,
   "metadata": {},
   "outputs": [],
   "source": [
    "weights = model.get_weights()"
   ]
  },
  {
   "cell_type": "code",
   "execution_count": 10,
   "metadata": {},
   "outputs": [
    {
     "data": {
      "text/plain": [
       "[array([[ 0.4243708 , -0.07226972,  0.7401747 ,  0.7010456 ,  0.4075161 ,\n",
       "         -0.3556914 ,  1.3668437 ,  0.00876872, -1.74228   ,  0.16608842],\n",
       "        [ 0.66713506,  0.2303877 ,  0.187049  ,  0.98262465,  0.74803895,\n",
       "          0.34466445, -0.129467  ,  0.5851627 , -0.19164257, -0.2838895 ],\n",
       "        [ 0.4209835 ,  0.65100193,  0.42979676,  0.63166016,  0.53190076,\n",
       "         -0.11104871,  0.34235635, -1.1324401 ,  0.28437415, -0.24576873],\n",
       "        [-0.37600335,  0.3245657 ,  0.03550036,  0.37446502,  0.11753521,\n",
       "         -0.1971326 , -1.4951881 , -1.3061543 ,  0.45342407, -0.00664823]],\n",
       "       dtype=float32),\n",
       " array([-0.19431579, -0.25546625, -0.04980365, -0.11937315, -0.28700057,\n",
       "        -0.42897546, -0.14917682,  0.32406396,  0.7947631 , -0.3743281 ],\n",
       "       dtype=float32),\n",
       " array([[-0.81250983],\n",
       "        [-0.4542985 ],\n",
       "        [-0.9378083 ],\n",
       "        [-0.44268972],\n",
       "        [-0.14199917],\n",
       "        [-0.5209734 ],\n",
       "        [-0.2977233 ],\n",
       "        [ 0.57709324],\n",
       "        [ 0.7861046 ],\n",
       "        [-0.11507061]], dtype=float32),\n",
       " array([0.5192071], dtype=float32)]"
      ]
     },
     "execution_count": 10,
     "metadata": {},
     "output_type": "execute_result"
    }
   ],
   "source": [
    "weights"
   ]
  }
 ],
 "metadata": {
  "kernelspec": {
   "display_name": "tf_gpu",
   "language": "python",
   "name": "tf_gpu"
  },
  "language_info": {
   "codemirror_mode": {
    "name": "ipython",
    "version": 3
   },
   "file_extension": ".py",
   "mimetype": "text/x-python",
   "name": "python",
   "nbconvert_exporter": "python",
   "pygments_lexer": "ipython3",
   "version": "3.8.8"
  }
 },
 "nbformat": 4,
 "nbformat_minor": 4
}
